{
 "cells": [
  {
   "cell_type": "markdown",
   "id": "d7b76f91",
   "metadata": {},
   "source": [
    "## 서론\n",
    "\n",
    "텍스트 분류는 감정 분석, 스팸 탐지, 해시 태그 예측 등과 같은 다양한 사용 머신 러닝 문제를 해결하는 데 사용할 수 있습니다. \n",
    "\n",
    "이 노트북은 SageMaker BlazingText를 사용하여 지도학습의 단일 또는 다중 레이블 텍스트 분류를 수행하는 방법을 보여주고 영화 리뷰 데이터를 사용하여 실제적으로 모델을 구축 및 배포하는 방법을 보여줍니다. \n",
    "\n",
    "BlazingText는 멀티 코어 CPU 또는 GPU를 사용하여 몇 분 안에 10억 단어 이상의 단어로 모델을 학습시키는 동시에 최첨단 딥 러닝 텍스트 분류 알고리즘과 동등한 성능을 달성할 수 있습니다. BlazingText는 사용자 지정 CUDA 커널을 사용하여 GPU 가속을 활용하도록 fastText 텍스트 분류기를 확장합니다."
   ]
  },
  {
   "cell_type": "markdown",
   "id": "4a6292a9",
   "metadata": {},
   "source": [
    "## 셋업\n",
    "\n",
    "먼저 다음을 지정해 보겠습니다.\n",
    "\n",
    "- 학습 및 모델 데이터에 사용할 S3 버킷 및 prefix 를 설정합니다. 이 설정은 노트북 인스턴스, 학습 및 호스팅과 동일한 리전 내에 있어야 합니다. 버킷을 지정하지 않으면 SageMaker SDK는 동일한 리전에서 미리 정의된 명명 규칙에 따라 기본 버킷을 생성합니다. \n",
    "- 세이지메이커에 데이터에 대한 액세스 권한을 부여하는 데 사용되는 IAM 역할 ARN 을 설정합니다. SageMaker Python SDK에서**get_execution_role** 메서드를 사용하여 가져올 수 있습니다."
   ]
  },
  {
   "cell_type": "code",
   "execution_count": 3,
   "id": "6012ca75",
   "metadata": {},
   "outputs": [],
   "source": [
    "import sagemaker\n",
    "from sagemaker import get_execution_role\n",
    "import json\n",
    "import boto3\n",
    "\n",
    "sess = sagemaker.Session()\n",
    "\n",
    "# This is the role that SageMaker would use to leverage AWS resources (S3, CloudWatch) on your behalf\n",
    "role = get_execution_role()\n",
    "\n",
    "bucket = sess.default_bucket()  # Replace with your own bucket name if needed\n",
    "prefix = \"blazingtext/supervised\"  # Replace with the prefix under which you want to store the data if needed"
   ]
  },
  {
   "cell_type": "markdown",
   "id": "06d31d6c",
   "metadata": {},
   "source": [
    "### 데이터 준비\n",
    "\n",
    "웹에서 텍스트 분류 모델을 학습시키려는 데이터세트를 다운로드하겠습니다. BlazingText는 공백으로 구분된 토큰이 있는 단일 전처리된 텍스트 파일을 기대하며 파일의 각 줄에는 단일 문장과 \"\\__label\\__\" 접두사가 붙은 레이블이 포함되어야 합니다.\n",
    "\n",
    "이 노트북에서 사용할 데이터는 네이버 영화 리뷰 데이터입니다. 데이터의 원본은 다음 [Github](https://github.com/e9t/nsmc/) 에서 다운로드 받을 수 있으며, 총 200,000 개 리뷰로 구성된 데이터로 영화 리뷰에 대한 텍스트와 해당 리뷰가 긍정인 경우 1, 부정인 경우 0을 표시한 레이블로 구성되어져 있습니다. \n",
    "\n"
   ]
  },
  {
   "cell_type": "code",
   "execution_count": 4,
   "id": "e7b06003",
   "metadata": {},
   "outputs": [
    {
     "data": {
      "text/plain": [
       "('ratings_test.txt', <http.client.HTTPMessage at 0x7fe96890e978>)"
      ]
     },
     "execution_count": 4,
     "metadata": {},
     "output_type": "execute_result"
    }
   ],
   "source": [
    "import urllib.request\n",
    "\n",
    "urllib.request.urlretrieve(\"https://raw.githubusercontent.com/e9t/nsmc/master/ratings_train.txt\", filename=\"ratings_train.txt\")\n",
    "urllib.request.urlretrieve(\"https://raw.githubusercontent.com/e9t/nsmc/master/ratings_test.txt\", filename=\"ratings_test.txt\")"
   ]
  },
  {
   "cell_type": "markdown",
   "id": "a657649a",
   "metadata": {},
   "source": [
    "pandas 패키지를 활용하여 데이터를 로드하고 분석을 해봅니다."
   ]
  },
  {
   "cell_type": "code",
   "execution_count": 5,
   "id": "e32dc16f",
   "metadata": {},
   "outputs": [],
   "source": [
    "import pandas as pd\n",
    "\n",
    "train_data_raw = pd.read_table('ratings_train.txt')\n",
    "test_data_raw = pd.read_table('ratings_test.txt')"
   ]
  },
  {
   "cell_type": "code",
   "execution_count": 6,
   "id": "2dd3c3f2",
   "metadata": {},
   "outputs": [
    {
     "data": {
      "text/html": [
       "<div>\n",
       "<style scoped>\n",
       "    .dataframe tbody tr th:only-of-type {\n",
       "        vertical-align: middle;\n",
       "    }\n",
       "\n",
       "    .dataframe tbody tr th {\n",
       "        vertical-align: top;\n",
       "    }\n",
       "\n",
       "    .dataframe thead th {\n",
       "        text-align: right;\n",
       "    }\n",
       "</style>\n",
       "<table border=\"1\" class=\"dataframe\">\n",
       "  <thead>\n",
       "    <tr style=\"text-align: right;\">\n",
       "      <th></th>\n",
       "      <th>id</th>\n",
       "      <th>document</th>\n",
       "      <th>label</th>\n",
       "    </tr>\n",
       "  </thead>\n",
       "  <tbody>\n",
       "    <tr>\n",
       "      <th>0</th>\n",
       "      <td>6270596</td>\n",
       "      <td>굳 ㅋ</td>\n",
       "      <td>1</td>\n",
       "    </tr>\n",
       "    <tr>\n",
       "      <th>1</th>\n",
       "      <td>9274899</td>\n",
       "      <td>GDNTOPCLASSINTHECLUB</td>\n",
       "      <td>0</td>\n",
       "    </tr>\n",
       "    <tr>\n",
       "      <th>2</th>\n",
       "      <td>8544678</td>\n",
       "      <td>뭐야 이 평점들은.... 나쁘진 않지만 10점 짜리는 더더욱 아니잖아</td>\n",
       "      <td>0</td>\n",
       "    </tr>\n",
       "    <tr>\n",
       "      <th>3</th>\n",
       "      <td>6825595</td>\n",
       "      <td>지루하지는 않은데 완전 막장임... 돈주고 보기에는....</td>\n",
       "      <td>0</td>\n",
       "    </tr>\n",
       "    <tr>\n",
       "      <th>4</th>\n",
       "      <td>6723715</td>\n",
       "      <td>3D만 아니었어도 별 다섯 개 줬을텐데.. 왜 3D로 나와서 제 심기를 불편하게 하죠??</td>\n",
       "      <td>0</td>\n",
       "    </tr>\n",
       "  </tbody>\n",
       "</table>\n",
       "</div>"
      ],
      "text/plain": [
       "        id                                           document  label\n",
       "0  6270596                                                굳 ㅋ      1\n",
       "1  9274899                               GDNTOPCLASSINTHECLUB      0\n",
       "2  8544678             뭐야 이 평점들은.... 나쁘진 않지만 10점 짜리는 더더욱 아니잖아      0\n",
       "3  6825595                   지루하지는 않은데 완전 막장임... 돈주고 보기에는....      0\n",
       "4  6723715  3D만 아니었어도 별 다섯 개 줬을텐데.. 왜 3D로 나와서 제 심기를 불편하게 하죠??      0"
      ]
     },
     "execution_count": 6,
     "metadata": {},
     "output_type": "execute_result"
    }
   ],
   "source": [
    "test_data_raw.head()"
   ]
  },
  {
   "cell_type": "code",
   "execution_count": 7,
   "id": "bfa466df",
   "metadata": {},
   "outputs": [
    {
     "name": "stdout",
     "output_type": "stream",
     "text": [
      "훈련용 리뷰 개수 : 150000\n"
     ]
    }
   ],
   "source": [
    "print('훈련용 리뷰 개수 :',len(train_data_raw)) # 학습용 리뷰 개수 출력"
   ]
  },
  {
   "cell_type": "markdown",
   "id": "ef7cbc39",
   "metadata": {},
   "source": [
    "해당 데이터는 id, document, label 총 3개의 열로 구성되어져 있습니다. id는 감성 분류를 수행하는데 도움이 되지 않으므로 앞으로 무시할 예정입니다. 결국 이 모델은 리뷰 내용을 담고있는 document와 해당 리뷰가 긍정(1), 부정(0)인지를 나타내는 label 두 개의 열을 학습하는 모델이 되어야 합니다.\n",
    "\n",
    "한글 데이터는 띄어쓰기가 되어 있지 않아도 의미를 이해하는데 어려움이 없다는 점을 한번 생각해 보도록 합니다."
   ]
  },
  {
   "cell_type": "code",
   "execution_count": 8,
   "id": "f1ecaf10",
   "metadata": {},
   "outputs": [
    {
     "name": "stdout",
     "output_type": "stream",
     "text": [
      "테스트용 리뷰 개수 : 50000\n"
     ]
    }
   ],
   "source": [
    "print('테스트용 리뷰 개수 :',len(test_data_raw)) # 테스트용 리뷰 개수 출력"
   ]
  },
  {
   "cell_type": "markdown",
   "id": "ff02a822",
   "metadata": {},
   "source": [
    "### 데이터 처리"
   ]
  },
  {
   "cell_type": "markdown",
   "id": "4f4ec5e4",
   "metadata": {},
   "source": [
    "#### 중복 데이터 처리"
   ]
  },
  {
   "cell_type": "code",
   "execution_count": 9,
   "id": "387907d7",
   "metadata": {},
   "outputs": [
    {
     "data": {
      "text/plain": [
       "(146182, 2)"
      ]
     },
     "execution_count": 9,
     "metadata": {},
     "output_type": "execute_result"
    }
   ],
   "source": [
    "# document 열과 label 열의 중복을 제외한 값의 개수\n",
    "train_data_raw['document'].nunique(), train_data_raw['label'].nunique()"
   ]
  },
  {
   "cell_type": "code",
   "execution_count": 10,
   "id": "831119c9",
   "metadata": {},
   "outputs": [],
   "source": [
    "train_data_raw.drop_duplicates(subset=['document'], inplace=True)"
   ]
  },
  {
   "cell_type": "code",
   "execution_count": 11,
   "id": "ccd6fbf1",
   "metadata": {},
   "outputs": [
    {
     "data": {
      "text/plain": [
       "<AxesSubplot:>"
      ]
     },
     "execution_count": 11,
     "metadata": {},
     "output_type": "execute_result"
    },
    {
     "data": {
      "image/png": "[encoded data removed]",
      "text/plain": [
       "<Figure size 432x288 with 1 Axes>"
      ]
     },
     "metadata": {
      "needs_background": "light"
     },
     "output_type": "display_data"
    }
   ],
   "source": [
    "train_data_raw['label'].value_counts().plot(kind = 'bar')"
   ]
  },
  {
   "cell_type": "markdown",
   "id": "f2095269",
   "metadata": {},
   "source": [
    "0과 1의 데이터가 balanced 되어 있는것을 확인할 수 있습니다."
   ]
  },
  {
   "cell_type": "code",
   "execution_count": 12,
   "id": "68a12937",
   "metadata": {},
   "outputs": [
    {
     "data": {
      "text/html": [
       "<div>\n",
       "<style scoped>\n",
       "    .dataframe tbody tr th:only-of-type {\n",
       "        vertical-align: middle;\n",
       "    }\n",
       "\n",
       "    .dataframe tbody tr th {\n",
       "        vertical-align: top;\n",
       "    }\n",
       "\n",
       "    .dataframe thead th {\n",
       "        text-align: right;\n",
       "    }\n",
       "</style>\n",
       "<table border=\"1\" class=\"dataframe\">\n",
       "  <thead>\n",
       "    <tr style=\"text-align: right;\">\n",
       "      <th></th>\n",
       "      <th>label</th>\n",
       "      <th>count</th>\n",
       "    </tr>\n",
       "  </thead>\n",
       "  <tbody>\n",
       "    <tr>\n",
       "      <th>0</th>\n",
       "      <td>0</td>\n",
       "      <td>73342</td>\n",
       "    </tr>\n",
       "    <tr>\n",
       "      <th>1</th>\n",
       "      <td>1</td>\n",
       "      <td>72841</td>\n",
       "    </tr>\n",
       "  </tbody>\n",
       "</table>\n",
       "</div>"
      ],
      "text/plain": [
       "   label  count\n",
       "0      0  73342\n",
       "1      1  72841"
      ]
     },
     "execution_count": 12,
     "metadata": {},
     "output_type": "execute_result"
    }
   ],
   "source": [
    "train_data_raw.groupby('label').size().reset_index(name = 'count')"
   ]
  },
  {
   "cell_type": "markdown",
   "id": "7bc89cf3",
   "metadata": {},
   "source": [
    "레이블이 0이나 1인 데이터 중, Null 값이 있는지 확인합니다. 다음 코드 실행 후 True가 나왔다면 데이터 중에 Null 값을 가진 샘플이 존재한다는 의미입니다."
   ]
  },
  {
   "cell_type": "code",
   "execution_count": 13,
   "id": "c4b1dc32",
   "metadata": {},
   "outputs": [
    {
     "data": {
      "text/plain": [
       "True"
      ]
     },
     "execution_count": 13,
     "metadata": {},
     "output_type": "execute_result"
    }
   ],
   "source": [
    "train_data_raw.isnull().values.any()"
   ]
  },
  {
   "cell_type": "code",
   "execution_count": 14,
   "id": "d93d35d7",
   "metadata": {},
   "outputs": [
    {
     "data": {
      "text/plain": [
       "id          0\n",
       "document    1\n",
       "label       0\n",
       "dtype: int64"
      ]
     },
     "execution_count": 14,
     "metadata": {},
     "output_type": "execute_result"
    }
   ],
   "source": [
    "train_data_raw.isnull().sum()"
   ]
  },
  {
   "cell_type": "markdown",
   "id": "0b7b62d4",
   "metadata": {},
   "source": [
    "리뷰가 적혀있는 document 열에서 Null 값을 가진 샘플이 총 1개가 존재한다는 결과값이 나오고 Null 값을 가진 샘플이 어느 인덱스의 위치에 존재하는지 한 번 출력해 볼 수 있습니다."
   ]
  },
  {
   "cell_type": "code",
   "execution_count": 15,
   "id": "03c31b60",
   "metadata": {},
   "outputs": [
    {
     "data": {
      "text/html": [
       "<div>\n",
       "<style scoped>\n",
       "    .dataframe tbody tr th:only-of-type {\n",
       "        vertical-align: middle;\n",
       "    }\n",
       "\n",
       "    .dataframe tbody tr th {\n",
       "        vertical-align: top;\n",
       "    }\n",
       "\n",
       "    .dataframe thead th {\n",
       "        text-align: right;\n",
       "    }\n",
       "</style>\n",
       "<table border=\"1\" class=\"dataframe\">\n",
       "  <thead>\n",
       "    <tr style=\"text-align: right;\">\n",
       "      <th></th>\n",
       "      <th>id</th>\n",
       "      <th>document</th>\n",
       "      <th>label</th>\n",
       "    </tr>\n",
       "  </thead>\n",
       "  <tbody>\n",
       "    <tr>\n",
       "      <th>25857</th>\n",
       "      <td>2172111</td>\n",
       "      <td>NaN</td>\n",
       "      <td>1</td>\n",
       "    </tr>\n",
       "  </tbody>\n",
       "</table>\n",
       "</div>"
      ],
      "text/plain": [
       "            id document  label\n",
       "25857  2172111      NaN      1"
      ]
     },
     "execution_count": 15,
     "metadata": {},
     "output_type": "execute_result"
    }
   ],
   "source": [
    "train_data_raw.loc[train_data_raw.document.isnull()]"
   ]
  },
  {
   "cell_type": "code",
   "execution_count": 16,
   "id": "573ffa16",
   "metadata": {},
   "outputs": [],
   "source": [
    "train_data_raw = train_data_raw.dropna(how = 'any') # Null 값이 존재하는 행 제거"
   ]
  },
  {
   "cell_type": "code",
   "execution_count": 17,
   "id": "8dcb059a",
   "metadata": {},
   "outputs": [
    {
     "data": {
      "text/plain": [
       "False"
      ]
     },
     "execution_count": 17,
     "metadata": {},
     "output_type": "execute_result"
    }
   ],
   "source": [
    "train_data_raw.isnull().values.any()"
   ]
  },
  {
   "cell_type": "markdown",
   "id": "df92676f",
   "metadata": {},
   "source": [
    "#### 데이터 전처리"
   ]
  },
  {
   "cell_type": "markdown",
   "id": "9c2354a1",
   "metadata": {},
   "source": [
    "train_data와 test_data에서 온점(.)이나 ?와 같은 각종 특수문자가 사용된 것을 확인했습니다. train_data 로부터 한글만 남기고 제거하기 위해서 Regular Expression(정규 표현식) 을 사용해보겠습니다.\n",
    "\n",
    "영어를 예로 들면 영어의 알파벳들을 나타내는 정규 표현식은 [a-zA-Z]입니다. 이 정규 표현식은 영어의 소문자와 대문자들을 모두 포함하고 있는 정규 표현식으로 이를 응용하면 영어에 속하지 않는 구두점이나 특수문자를 제거할 수 있습니다. 예를 들어 알파벳과 공백을 제외하고 모두 제거하는 전처리를 수행하는 예제는 다음과 같습니다."
   ]
  },
  {
   "cell_type": "code",
   "execution_count": 18,
   "id": "8d9e820a",
   "metadata": {},
   "outputs": [
    {
     "name": "stdout",
     "output_type": "stream",
     "text": [
      "do you expect people to read the FAQ etc and actually accept hard atheism\n"
     ]
    }
   ],
   "source": [
    "import re\n",
    "#알파벳과 공백을 제외하고 모두 제거\n",
    "eng_text = 'do!!! you expect... people~ to~ read~ the FAQ, etc. and actually accept hard~! atheism?@@'\n",
    "print(re.sub(r'[^a-zA-Z ]', '', eng_text))"
   ]
  },
  {
   "cell_type": "markdown",
   "id": "91e28088",
   "metadata": {},
   "source": [
    "위와 같은 원리를 한국어 데이터에 적용하고 싶다면, 우선 한글을 범위 지정할 수 있는 정규 표현식을 찾아내면 됩니다. 우선 자음과 모음에 대한 범위를 지정해보겠습니다. 일반적으로 자음의 범위는 ㄱ ~ ㅎ, 모음의 범위는 ㅏ ~ 힣 와 같이 지정할 수 있습니다. 해당 범위 내에 어떤 자음과 모음이 속하는지 알고 싶다면 다음 [유니코드 문서](https://www.unicode.org/charts/PDF/U3130.pdf) 를 참고하시기 바랍니다.\n",
    "\n",
    "* ㄱ ~ ㅎ: 3131 ~ 314E\n",
    "* ㅏ ~ ㅣ: 314F ~ 3163\n",
    "\n",
    "해당 범위 내에 포함된 음절들은 다음 [유니코드 문서](https://www.unicode.org/charts/PDF/UAC00.pdf) 에서 확인할 수 있습니다.\n",
    "\n",
    "위 범위 지정을 모두 반영하여 train_data 에 한글과 공백을 제외하고 모두 제거하는 정규 표현식을 수행해 봅니다."
   ]
  },
  {
   "cell_type": "code",
   "execution_count": 19,
   "id": "53ec2997",
   "metadata": {},
   "outputs": [],
   "source": [
    "# 한글과 공백을 제외하고 모두 제거\n",
    "train_data_raw['document'] = train_data_raw['document'].str.replace(\"[^ㄱ-ㅎㅏ-ㅣ가-힣 ]\",\"\")"
   ]
  },
  {
   "cell_type": "code",
   "execution_count": 20,
   "id": "ad63f72a",
   "metadata": {},
   "outputs": [
    {
     "data": {
      "text/html": [
       "<div>\n",
       "<style scoped>\n",
       "    .dataframe tbody tr th:only-of-type {\n",
       "        vertical-align: middle;\n",
       "    }\n",
       "\n",
       "    .dataframe tbody tr th {\n",
       "        vertical-align: top;\n",
       "    }\n",
       "\n",
       "    .dataframe thead th {\n",
       "        text-align: right;\n",
       "    }\n",
       "</style>\n",
       "<table border=\"1\" class=\"dataframe\">\n",
       "  <thead>\n",
       "    <tr style=\"text-align: right;\">\n",
       "      <th></th>\n",
       "      <th>id</th>\n",
       "      <th>document</th>\n",
       "      <th>label</th>\n",
       "    </tr>\n",
       "  </thead>\n",
       "  <tbody>\n",
       "    <tr>\n",
       "      <th>0</th>\n",
       "      <td>9976970</td>\n",
       "      <td>아 더빙 진짜 짜증나네요 목소리</td>\n",
       "      <td>0</td>\n",
       "    </tr>\n",
       "    <tr>\n",
       "      <th>1</th>\n",
       "      <td>3819312</td>\n",
       "      <td>흠포스터보고 초딩영화줄오버연기조차 가볍지 않구나</td>\n",
       "      <td>1</td>\n",
       "    </tr>\n",
       "    <tr>\n",
       "      <th>2</th>\n",
       "      <td>10265843</td>\n",
       "      <td>너무재밓었다그래서보는것을추천한다</td>\n",
       "      <td>0</td>\n",
       "    </tr>\n",
       "    <tr>\n",
       "      <th>3</th>\n",
       "      <td>9045019</td>\n",
       "      <td>교도소 이야기구먼 솔직히 재미는 없다평점 조정</td>\n",
       "      <td>0</td>\n",
       "    </tr>\n",
       "    <tr>\n",
       "      <th>4</th>\n",
       "      <td>6483659</td>\n",
       "      <td>사이몬페그의 익살스런 연기가 돋보였던 영화스파이더맨에서 늙어보이기만 했던 커스틴 던...</td>\n",
       "      <td>1</td>\n",
       "    </tr>\n",
       "  </tbody>\n",
       "</table>\n",
       "</div>"
      ],
      "text/plain": [
       "         id                                           document  label\n",
       "0   9976970                                  아 더빙 진짜 짜증나네요 목소리      0\n",
       "1   3819312                         흠포스터보고 초딩영화줄오버연기조차 가볍지 않구나      1\n",
       "2  10265843                                  너무재밓었다그래서보는것을추천한다      0\n",
       "3   9045019                          교도소 이야기구먼 솔직히 재미는 없다평점 조정      0\n",
       "4   6483659  사이몬페그의 익살스런 연기가 돋보였던 영화스파이더맨에서 늙어보이기만 했던 커스틴 던...      1"
      ]
     },
     "execution_count": 20,
     "metadata": {},
     "output_type": "execute_result"
    }
   ],
   "source": [
    "train_data_raw.head()"
   ]
  },
  {
   "cell_type": "markdown",
   "id": "69870d14",
   "metadata": {},
   "source": [
    "다음은 영화 리뷰 중 특수문자나 영어, 숫자만으로 이루어져 있는 리뷰들이 있을 수 있으므로 이런 데이터들은 위 과정에서 Null 내지는 white space 로 변경되었을 것입니다. train_data 에 공백(whitespace)만 있거나 빈 값을 가진 행이 있다면 Null 값으로 변경하도록 하고, Null 값이 존재하는지 확인해보겠습니다."
   ]
  },
  {
   "cell_type": "code",
   "execution_count": 21,
   "id": "d21ef17c",
   "metadata": {},
   "outputs": [],
   "source": [
    "train_data_raw['document'] = train_data_raw['document'].str.replace('^ +', \"\") # white space 데이터를 empty value로 변경"
   ]
  },
  {
   "cell_type": "code",
   "execution_count": 22,
   "id": "1a298b55",
   "metadata": {},
   "outputs": [],
   "source": [
    "import numpy as np"
   ]
  },
  {
   "cell_type": "code",
   "execution_count": 23,
   "id": "74e84a7e",
   "metadata": {},
   "outputs": [],
   "source": [
    "train_data_raw['document'].replace('', np.nan, inplace=True)"
   ]
  },
  {
   "cell_type": "code",
   "execution_count": 24,
   "id": "f9febf37",
   "metadata": {},
   "outputs": [
    {
     "data": {
      "text/plain": [
       "id            0\n",
       "document    789\n",
       "label         0\n",
       "dtype: int64"
      ]
     },
     "execution_count": 24,
     "metadata": {},
     "output_type": "execute_result"
    }
   ],
   "source": [
    "train_data_raw.isnull().sum()"
   ]
  },
  {
   "cell_type": "code",
   "execution_count": 25,
   "id": "b121b828",
   "metadata": {},
   "outputs": [],
   "source": [
    "train_data_raw = train_data_raw.dropna(how = 'any')"
   ]
  },
  {
   "cell_type": "code",
   "execution_count": 26,
   "id": "b1cae49f",
   "metadata": {},
   "outputs": [],
   "source": [
    "train_data_raw.to_csv('ratings_train_stage.txt', index=False, sep='\\t')"
   ]
  },
  {
   "cell_type": "markdown",
   "id": "36e78891",
   "metadata": {},
   "source": [
    "training 세트에 대한 전처리가 완료되었으므로 이를 test/validation 세트에도 적용시키도록 합니다."
   ]
  },
  {
   "cell_type": "code",
   "execution_count": 27,
   "id": "5a287bed",
   "metadata": {},
   "outputs": [],
   "source": [
    "test_data_raw.drop_duplicates(subset = ['document'], inplace=True) # document 열에서 중복인 내용이 있다면 중복 제거\n",
    "test_data_raw['document'] = test_data_raw['document'].str.replace(\"[^ㄱ-ㅎㅏ-ㅣ가-힣 ]\",\"\") # 정규 표현식 수행\n",
    "test_data_raw['document'] = test_data_raw['document'].str.replace('^ +', \"\") # 공백은 empty 값으로 변경\n",
    "test_data_raw['document'].replace('', np.nan, inplace=True) # 공백은 Null 값으로 변경\n",
    "test_data_raw = test_data_raw.dropna(how='any') # Null 값 제거"
   ]
  },
  {
   "cell_type": "code",
   "execution_count": 28,
   "id": "52034928",
   "metadata": {},
   "outputs": [
    {
     "data": {
      "text/plain": [
       "'전처리 후 테스트용 샘플의 개수 : 48852'"
      ]
     },
     "execution_count": 28,
     "metadata": {},
     "output_type": "execute_result"
    }
   ],
   "source": [
    "'전처리 후 테스트용 샘플의 개수 : ' + str(len(test_data_raw))"
   ]
  },
  {
   "cell_type": "code",
   "execution_count": 29,
   "id": "b1d29faa",
   "metadata": {},
   "outputs": [],
   "source": [
    "test_data_raw.to_csv('ratings_test_stage.txt', index=False, sep='\\t')"
   ]
  },
  {
   "cell_type": "code",
   "execution_count": 30,
   "id": "21384a6a",
   "metadata": {},
   "outputs": [
    {
     "name": "stdout",
     "output_type": "stream",
     "text": [
      "id\tdocument\tlabel\n",
      "9976970\t아 더빙 진짜 짜증나네요 목소리\t0\n",
      "3819312\t흠포스터보고 초딩영화줄오버연기조차 가볍지 않구나\t1\n",
      "10265843\t너무재밓었다그래서보는것을추천한다\t0\n",
      "9045019\t교도소 이야기구먼 솔직히 재미는 없다평점 조정\t0\n"
     ]
    }
   ],
   "source": [
    "!head ratings_train_stage.txt -n 5"
   ]
  },
  {
   "cell_type": "markdown",
   "id": "a275479d",
   "metadata": {},
   "source": [
    "BlazingText 알고리즘으로 분류 문제를 학습하기 위해서는 말뭉치 데이터의 각 문장의 클래스 레이블 앞에 \\__label__을 접두사로 붙여야 합니다. 변환 예시는 아래를 참조해 주세요.\n",
    "\n",
    "\\__label__0 아 더빙.. 진짜 짜증나네요 목소리\n",
    "\n",
    "\\__label__1 흠...포스터보고 초딩영화줄....오버연기조차 가볍지 않구나"
   ]
  },
  {
   "cell_type": "code",
   "execution_count": 31,
   "id": "f445fff4",
   "metadata": {},
   "outputs": [],
   "source": [
    "def preprocess_text(corpus_path, output_path):\n",
    "    with open(corpus_path, 'r', encoding='utf-8') as f, \\\n",
    "        open(output_path, 'w', encoding='utf-8') as fw:\n",
    "        next(f)\n",
    "        for line in f:\n",
    "            # Remove tab\n",
    "            _, sentence, label = line.strip().split('\\t') \n",
    "            if not sentence: continue\n",
    "            fw.writelines('__label__' + label + ' '+ sentence + '\\n')    "
   ]
  },
  {
   "cell_type": "code",
   "execution_count": 32,
   "id": "bb7c1f71",
   "metadata": {},
   "outputs": [],
   "source": [
    "corpus_path = 'ratings_train_stage.txt'\n",
    "output_path = 'ratings_train_preprocessd'\n",
    "preprocess_text(corpus_path, output_path)"
   ]
  },
  {
   "cell_type": "code",
   "execution_count": 33,
   "id": "911ac235",
   "metadata": {},
   "outputs": [
    {
     "name": "stdout",
     "output_type": "stream",
     "text": [
      "__label__0 아 더빙 진짜 짜증나네요 목소리\n",
      "__label__1 흠포스터보고 초딩영화줄오버연기조차 가볍지 않구나\n",
      "__label__0 너무재밓었다그래서보는것을추천한다\n",
      "__label__0 교도소 이야기구먼 솔직히 재미는 없다평점 조정\n",
      "__label__1 사이몬페그의 익살스런 연기가 돋보였던 영화스파이더맨에서 늙어보이기만 했던 커스틴 던스트가 너무나도 이뻐보였다\n"
     ]
    }
   ],
   "source": [
    "!head ratings_train_preprocessd -n 5"
   ]
  },
  {
   "cell_type": "code",
   "execution_count": 34,
   "id": "4372fded",
   "metadata": {},
   "outputs": [],
   "source": [
    "corpus_path = 'ratings_test_stage.txt'\n",
    "output_path = 'ratings_test_preprocessd'\n",
    "preprocess_text(corpus_path, output_path)"
   ]
  },
  {
   "cell_type": "code",
   "execution_count": 35,
   "id": "642db28b",
   "metadata": {},
   "outputs": [
    {
     "name": "stdout",
     "output_type": "stream",
     "text": [
      "__label__1 굳 ㅋ\n",
      "__label__0 뭐야 이 평점들은 나쁘진 않지만 점 짜리는 더더욱 아니잖아\n",
      "__label__0 지루하지는 않은데 완전 막장임 돈주고 보기에는\n",
      "__label__0 만 아니었어도 별 다섯 개 줬을텐데 왜 로 나와서 제 심기를 불편하게 하죠\n",
      "__label__1 음악이 주가 된 최고의 음악영화\n"
     ]
    }
   ],
   "source": [
    "!head ratings_test_preprocessd -n 5"
   ]
  },
  {
   "cell_type": "markdown",
   "id": "48dbcea2",
   "metadata": {},
   "source": [
    "### S3 경로 설정"
   ]
  },
  {
   "cell_type": "code",
   "execution_count": 36,
   "id": "65125500",
   "metadata": {},
   "outputs": [],
   "source": [
    "train_channel = prefix + '/train'\n",
    "validation_channel = prefix + '/validation'\n",
    "\n",
    "sess.upload_data(path='ratings_train_preprocessd', bucket=bucket, key_prefix=train_channel)\n",
    "sess.upload_data(path='ratings_test_preprocessd', bucket=bucket, key_prefix=validation_channel)\n",
    "\n",
    "s3_train_data = 's3://{}/{}'.format(bucket, train_channel)\n",
    "s3_validation_data = 's3://{}/{}'.format(bucket, validation_channel)"
   ]
  },
  {
   "cell_type": "markdown",
   "id": "39c226fd",
   "metadata": {},
   "source": [
    "모델 아티팩트(Model Artifact)가 저장될 S3의 경로를 설정합니다."
   ]
  },
  {
   "cell_type": "code",
   "execution_count": 37,
   "id": "745a8521",
   "metadata": {},
   "outputs": [],
   "source": [
    "s3_output_location = 's3://{}/{}/output'.format(bucket, prefix)"
   ]
  },
  {
   "cell_type": "code",
   "execution_count": 38,
   "id": "0e40c1e3",
   "metadata": {},
   "outputs": [
    {
     "data": {
      "text/plain": [
       "'s3://sagemaker-ap-northeast-2-806174985048/blazingtext/supervised/train'"
      ]
     },
     "execution_count": 38,
     "metadata": {},
     "output_type": "execute_result"
    }
   ],
   "source": [
    "s3_train_data"
   ]
  },
  {
   "cell_type": "code",
   "execution_count": 39,
   "id": "59cf7a3d",
   "metadata": {},
   "outputs": [
    {
     "data": {
      "text/plain": [
       "'s3://sagemaker-ap-northeast-2-806174985048/blazingtext/supervised/validation'"
      ]
     },
     "execution_count": 39,
     "metadata": {},
     "output_type": "execute_result"
    }
   ],
   "source": [
    "s3_validation_data"
   ]
  },
  {
   "cell_type": "code",
   "execution_count": 40,
   "id": "a90e8640",
   "metadata": {},
   "outputs": [
    {
     "data": {
      "text/plain": [
       "'s3://sagemaker-ap-northeast-2-806174985048/blazingtext/supervised/output'"
      ]
     },
     "execution_count": 40,
     "metadata": {},
     "output_type": "execute_result"
    }
   ],
   "source": [
    "s3_output_location"
   ]
  },
  {
   "cell_type": "markdown",
   "id": "e48d9823",
   "metadata": {},
   "source": [
    "### 모델 Training"
   ]
  },
  {
   "cell_type": "code",
   "execution_count": 41,
   "id": "70ff8e48",
   "metadata": {},
   "outputs": [
    {
     "name": "stdout",
     "output_type": "stream",
     "text": [
      "SageMaker BlazingText 컨테이너 위치: 306986355934.dkr.ecr.ap-northeast-2.amazonaws.com/blazingtext:1 (ap-northeast-2)\n"
     ]
    }
   ],
   "source": [
    "region_name = boto3.Session().region_name\n",
    "# container = sagemaker.amazon.amazon_estimator.get_image_uri(region_name, \"blazingtext\", \"latest\")\n",
    "container = sagemaker.image_uris.retrieve(region=region_name, framework = \"blazingtext\")\n",
    "print('SageMaker BlazingText 컨테이너 위치: {} ({})'.format(container, region_name))"
   ]
  },
  {
   "cell_type": "markdown",
   "id": "09213e37",
   "metadata": {},
   "source": [
    "SageMaker BlazingText는 Word2Vec의 구현과 유사하게 네거티브 샘플링(Negative Sampling)을 사용하여 CPU 및 GPU(들)에서 CBOW(Continuous Bag-of-Words) 및 스킵 그램(Skip-gram) 아키텍처를 효율적으로 구현합니다. GPU 구현은 고도로 최적화된 CUDA 커널을 사용합니다. 자세한 내용은 [*BlazingText: Scaling and Accelerating Word2Vec using Multiple GPUs*](https://dl.acm.org/citation.cfm?doid=3146347.3146354)를 참조하세요. \n",
    "\n",
    "또한, BlazingText는 CBOW 및 스킵 그램 모드로 서브 워드(subwords) 임베딩 학습을 지원합니다. 이를 통해 BlazingText는 out-of-vocabulary(OOV)를 생성할 수 있습니다.\n",
    "서브 워드 임베딩 학습은 [notebook (text8 데이터셋 서브 워드 임베딩)](https://github.com/awslabs/amazon-sagemaker-examples/blob/master/introduction_to_amazon_algorithms/blazingtext_word2vec_subwords_text8/blazingtext_word2vec_subwords_text8.ipynb)을 참조하세요.\n",
    "\n",
    "스킵 그램 및 CBOW 외에도 SageMaker BlazingText는 효율적인 미니 배치 및 행렬 연산을 수행하는 \"배치 스킵 그램(Batch Skipgram)\" 모드도 지원합니다. ([BLAS Level 3 routines](https://software.intel.com/en-us/mkl-developer-reference-fortran-blas-level-3-routines)) 이 모드는 여러 CPU 노드에 걸쳐 분산된 Word2Vec의 학습을 가능하게 하여 보다 빠른 학습이 가능합니다. 자세한 내용은 [*Parallelizing Word2Vec in Shared and Distributed Memory*](https://arxiv.org/pdf/1604.04661.pdf)를 참조하세요.\n",
    "\n",
    "BlazingText는 텍스트 분류를 위한 교사 학습(supervised learning)도 지원하며, 사용자 지정 CUDA 커널을 사용하여 GPU 가속을 활용하도록 FastText 텍스트 분류기를 확장합니다. 이 모델은 최신 딥러닝 텍스트 분류 알고리즘과 동등한 성능을 달성하면서 멀티 코어 CPU 또는 GPU를 사용하여 몇 분 안에 10억 단어 이상을 학습할 수 있습니다. 자세한 내용은 [알고리즘 설명서](https://docs.aws.amazon.com/sagemaker/latest/dg/blazingtext.html)를 참조하세요.\n",
    "\n",
    "\n",
    "아래 표는 BlazingText에서 지원하는 모드입니다.\n",
    "\n",
    "|          Modes         \t| cbow (서브워드 학습 지원) \t| skipgram (서브워드 학습 지원) | batch_skipgram | supervised |\n",
    "|:----------------------:\t|:----:\t|:--------:\t|:--------------:| :--------------:|\n",
    "|   단일 CPU 인스턴스  \t|   ✔  \t|     ✔    \t|        ✔       \t|  ✔  |\n",
    "|   단일 GPU 인스턴스  \t|   ✔  \t|     ✔    \t|              X  \t|  ✔ (1 GPU 인스턴스만 지원)  |\n",
    "| 다중 CPU 인스턴스 \t|   X \t|     X     \t|        ✔       \t |  X    |"
   ]
  },
  {
   "cell_type": "code",
   "execution_count": 42,
   "id": "ec641449",
   "metadata": {},
   "outputs": [
    {
     "name": "stderr",
     "output_type": "stream",
     "text": [
      "train_instance_count has been renamed in sagemaker>=2.\n",
      "See: https://sagemaker.readthedocs.io/en/stable/v2.html for details.\n",
      "train_instance_type has been renamed in sagemaker>=2.\n",
      "See: https://sagemaker.readthedocs.io/en/stable/v2.html for details.\n",
      "train_max_run has been renamed in sagemaker>=2.\n",
      "See: https://sagemaker.readthedocs.io/en/stable/v2.html for details.\n",
      "train_volume_size has been renamed in sagemaker>=2.\n",
      "See: https://sagemaker.readthedocs.io/en/stable/v2.html for details.\n"
     ]
    }
   ],
   "source": [
    "bt_model = sagemaker.estimator.Estimator(container,\n",
    "                                         role, \n",
    "                                         train_instance_count=1, \n",
    "                                         train_instance_type='ml.c4.2xlarge',\n",
    "                                         train_volume_size=30,\n",
    "                                         train_max_run=360000,\n",
    "                                         input_mode='File',\n",
    "                                         output_path=s3_output_location,\n",
    "                                         sagemaker_session=sess)"
   ]
  },
  {
   "cell_type": "markdown",
   "id": "53e445d1",
   "metadata": {},
   "source": [
    "BlazingText 하이퍼파라메터의 자세한 설정 방법은 [이 문서](https://docs.aws.amazon.com/sagemaker/latest/dg/blazingtext_hyperparameters.html)를 참조해 주세요."
   ]
  },
  {
   "cell_type": "code",
   "execution_count": 43,
   "id": "f70444f0",
   "metadata": {},
   "outputs": [],
   "source": [
    "bt_model.set_hyperparameters(mode=\"supervised\",\n",
    "                            epochs=30,\n",
    "                            min_count=2,\n",
    "                            learning_rate=0.005,\n",
    "                            vector_dim=100,\n",
    "                            early_stopping=True,\n",
    "                            patience=4,  # Number of epochs to wait before early stopping if no progress on the validation set is observed\n",
    "                            buckets=2000000, # Number of hash buckets to use for word n-grams\n",
    "                            min_epochs=5,\n",
    "                            word_ngrams=2)"
   ]
  },
  {
   "cell_type": "markdown",
   "id": "08863001",
   "metadata": {},
   "source": [
    "### 하이퍼파라미터 튜닝 작업 설정"
   ]
  },
  {
   "cell_type": "markdown",
   "id": "45eec898",
   "metadata": {},
   "source": [
    "Estimator 를 정의한 후에는 조정하려는 하이퍼파라미터와 가능한 값을 지정할 수 있습니다. 세 가지 유형의 하이퍼 파라미터가 있습니다.\n",
    "- 범주형 매개변수는 불연속 집합에서 하나의 값을 가져와야 합니다. 가능한 값 목록을 `Categorical 매개 변수(list) `에 전달하여 정의합니다.\n",
    "- 연속 매개 변수는 `연속 매개 변수, Continuous parameters (min, max) `로 정의 된 최소값과 최대값 사이의 실수 값을 취할 수 있습니다.\n",
    "- 정수 매개 변수는 `정수 매개 변수, Integer parameters (min, max) `로 정의된 최소값과 최대값 사이의 정수값을 취할 수 있습니다.\n",
    "\n",
    "*가능하면 값을 최소 제한적 유형으로 지정하는 것이 거의 항상 가장 좋습니다.예를 들어, 0.01에서 0.2 사이의 연속형 값으로 learning rate 을 조정하는 것이 값이 0.01, 0.1, 0.15 또는 0.2 인 범주형 매개 변수로 조정하는 것보다 더 나은 결과를 얻을 수 있습니다.*\n",
    "\n",
    "하이퍼파라미터의 전체 목록은 아마존 세이지메이커 설명서의 [BlazingText 하이퍼파라미터](https://docs.aws.amazon.com/sagemaker/latest/dg/blazingtext_hyperparameters.html) 를 참조하십시오."
   ]
  },
  {
   "cell_type": "code",
   "execution_count": 44,
   "id": "f770b687",
   "metadata": {},
   "outputs": [],
   "source": [
    "from sagemaker.tuner import (\n",
    "    IntegerParameter,\n",
    "    CategoricalParameter,\n",
    "    ContinuousParameter,\n",
    "    HyperparameterTuner,\n",
    ")\n",
    "\n",
    "hyperparameter_ranges = {\n",
    "    \"learning_rate\": ContinuousParameter(0.05, 0.15),\n",
    "    \"vector_dim\": IntegerParameter(32, 300),\n",
    "}"
   ]
  },
  {
   "cell_type": "markdown",
   "id": "c91b4c90",
   "metadata": {},
   "source": [
    "다음으로 조정하려는 목표 지표와 정의를 지정합니다. 여기에는 교육 작업의 CloudWatch 로그에서 해당 지표를 추출하는 데 필요한 정규식 (Regex) 이 포함됩니다. Built in 알고리즘 `BlazingText` 알고리즘을 사용하고 있기 때문에 `train:mean_rho`와 `validation:accuracy` 라는 두 가지 사전 정의 된 메트릭을 내보내고 아래에서 볼 수 있듯이 `validation:accuracy` 를 모니터링하기로 결정했습니다. 이 경우 메트릭 이름만 지정하면 되고 정규식을 제공할 필요가 없습니다. 자체 알고리즘을 가져오면 알고리즘이 자체적으로 메트릭을 방출합니다. 이 경우 여기에 `MetricDefinition` 객체를 추가하여 정규식을 통해 해당 지표의 형식을 정의해야 SageMaker가 CloudWatch 로그에서 이러한 지표를 추출하는 방법을 알 수 있습니다."
   ]
  },
  {
   "cell_type": "code",
   "execution_count": 45,
   "id": "04e8a1a8",
   "metadata": {},
   "outputs": [],
   "source": [
    "objective_metric_name = \"validation:accuracy\"\n",
    "objective_type = \"Maximize\""
   ]
  },
  {
   "cell_type": "markdown",
   "id": "c5c1f33b",
   "metadata": {},
   "source": [
    "이제 `HyperparameterTuner` 객체를 만들어 보겠습니다.\n",
    "- 위에서 만든 `BlazingText` Estimator\n",
    "- 하이퍼파라미터 범위\n",
    "- 객관적인 지표 이름 및 정의\n",
    "- 총 실행할 학습 작업 수 및 병렬로 실행할 수 있는 교육 작업 수와 같은 리소스 구성 조정"
   ]
  },
  {
   "cell_type": "code",
   "execution_count": 47,
   "id": "28502452",
   "metadata": {},
   "outputs": [],
   "source": [
    "tuner = HyperparameterTuner(\n",
    "    bt_model,\n",
    "    objective_metric_name,\n",
    "    hyperparameter_ranges,\n",
    "    max_jobs=6,\n",
    "    max_parallel_jobs=2,\n",
    "    objective_type=objective_type,\n",
    ")"
   ]
  },
  {
   "cell_type": "markdown",
   "id": "c0b73dea",
   "metadata": {},
   "source": [
    "이제 하이퍼 파라미터가 설정되었으므로 데이터 채널과 알고리즘 간의 핸드셰이크를 준비해 보겠습니다. 이를 위해서는 데이터 채널에서 `SageMaker.inputs.trainingInput` 객체를 만들어야 합니다. 그런 다음 이 객체들은 알고리즘에서 사용되는 딕셔너리에 배치됩니다."
   ]
  },
  {
   "cell_type": "code",
   "execution_count": 48,
   "id": "9d2a464d",
   "metadata": {},
   "outputs": [],
   "source": [
    "train_data = sagemaker.inputs.TrainingInput(\n",
    "    s3_train_data,\n",
    "    distribution=\"FullyReplicated\",\n",
    "    content_type=\"text/plain\",\n",
    "    s3_data_type=\"S3Prefix\",\n",
    ")\n",
    "validation_data = sagemaker.inputs.TrainingInput(\n",
    "    s3_validation_data,\n",
    "    distribution=\"FullyReplicated\",\n",
    "    content_type=\"text/plain\",\n",
    "    s3_data_type=\"S3Prefix\",\n",
    ")\n",
    "data_channels = {\"train\": train_data, \"validation\": validation_data}"
   ]
  },
  {
   "cell_type": "markdown",
   "id": "d16c56d8",
   "metadata": {},
   "source": [
    "`Estimator` 객체가 있고, 이 객체에 대한 하이퍼 매개 변수를 설정했으며, 알고리즘과 연결된 데이터 채널이 있습니다. 남은 것은 알고리즘을 학습시키는 것 뿐입니다. 알고리즘 학습에는 몇 가지 단계가 필요합니다. \n",
    "\n",
    "1. 먼저 `Estimator` 클래스를 만들 때 요청한 인스턴스가 프로비저닝되고 적절한 라이브러리로 설정됩니다. \n",
    "2. 그런 다음 채널의 데이터가 인스턴스로 다운로드됩니다. 이 작업이 완료되면 교육 작업이 시작됩니다. 프로비저닝 및 데이터 다운로드는 데이터 크기에 따라 다소 시간이 걸립니다. 따라서 학습 작업에 대한 교육 로그를 받기 시작하기까지 몇 분 정도 걸릴 수 있습니다.\n",
    "3. 또한 데이터 로그는 훈련 작업이 `min_epochs`를 실행한 후 매 Epoch의 유효성 검사 데이터에 대한 정확도를 인쇄합니다. 이 메트릭은 알고리즘의 품질에 대한 프록시입니다.\n",
    "\n",
    "작업이 완료되면 “작업 완료” 메시지가 인쇄됩니다. 학습된 모델은 추정기에서 `output_path` 로 설정된 S3 버킷에서 찾을 수 있습니다."
   ]
  },
  {
   "cell_type": "markdown",
   "id": "29694bb3",
   "metadata": {},
   "source": [
    "## 하이퍼파라미터 튜닝 작업 시작\n",
    "\n",
    "이제 *fit ()* 함수를 호출하여 하이퍼파라미터 튜닝 작업을 시작할 수 있습니다. 하이퍼파라미터 조정 작업이 생성된 후 SageMaker 콘솔로 이동하여 완료될 때까지 하이퍼파라미터 조정 작업의 진행률을 추적할 수 있습니다.\n",
    "\n",
    "이 작업을 완료하는 데 약 12분 정도 걸립니다."
   ]
  },
  {
   "cell_type": "code",
   "execution_count": null,
   "id": "97051e72",
   "metadata": {},
   "outputs": [
    {
     "name": "stdout",
     "output_type": "stream",
     "text": [
      "..................................................................................................................................................................................................................!\n",
      "CPU times: user 979 ms, sys: 52.4 ms, total: 1.03 s\n",
      "Wall time: 21min 43s\n"
     ]
    }
   ],
   "source": [
    "%%time\n",
    "\n",
    "tuner.fit(inputs=data_channels, logs=True)"
   ]
  },
  {
   "cell_type": "markdown",
   "id": "3b1e3d70",
   "metadata": {},
   "source": [
    "### 하이퍼파라미터 튜닝 작업의 결과 분석\n",
    "\n",
    "튜닝 작업을 완료한 후 (또는 작업이 아직 실행 중인 동안에도) 아래 코드를 사용하여 결과를 분석하여 각 하이퍼파라미터가 모델의 성능에 어떤 영향을 미치는지 이해할 수 있습니다."
   ]
  },
  {
   "cell_type": "code",
   "execution_count": 50,
   "id": "fa4019af",
   "metadata": {},
   "outputs": [
    {
     "data": {
      "text/plain": [
       "'blazingtext-220406-0747'"
      ]
     },
     "execution_count": 50,
     "metadata": {},
     "output_type": "execute_result"
    }
   ],
   "source": [
    "sm_client = boto3.Session().client(\"sagemaker\")\n",
    "\n",
    "tuning_job_name = tuner.latest_tuning_job.name\n",
    "tuning_job_name"
   ]
  },
  {
   "cell_type": "markdown",
   "id": "3b2a80d6",
   "metadata": {},
   "source": [
    "### 하이퍼파라미터 튜닝 작업 진행률 추적\n",
    "\n",
    "튜닝 작업을 시작한 후 `describe_tuning_job` API를 호출하여 진행 상황을 확인할 수 있습니다. describe-tuning-job 의 출력은 튜닝 작업의 현재 상태에 대한 정보가 포함된 JSON 객체입니다. `list_training_jobs_for_tuning_job` 을 호출하여 튜닝 작업이 시작된 학습 작업의 자세한 목록을 볼 수 있습니다."
   ]
  },
  {
   "cell_type": "code",
   "execution_count": 51,
   "id": "6cfa207f",
   "metadata": {},
   "outputs": [
    {
     "name": "stdout",
     "output_type": "stream",
     "text": [
      "6 training jobs have completed\n"
     ]
    }
   ],
   "source": [
    "tuning_job_result = sm_client.describe_hyper_parameter_tuning_job(\n",
    "    HyperParameterTuningJobName=tuning_job_name\n",
    ")\n",
    "\n",
    "status = tuning_job_result[\"HyperParameterTuningJobStatus\"]\n",
    "if status != \"Completed\":\n",
    "    print(\"Reminder: the tuning job has not been completed.\")\n",
    "\n",
    "job_count = tuning_job_result[\"TrainingJobStatusCounters\"][\"Completed\"]\n",
    "print(\"%d training jobs have completed\" % job_count)\n",
    "\n",
    "is_minimize = (\n",
    "    tuning_job_result[\"HyperParameterTuningJobConfig\"][\"HyperParameterTuningJobObjective\"][\"Type\"]\n",
    "    != \"Maximize\"\n",
    ")\n",
    "objective_name = tuning_job_result[\"HyperParameterTuningJobConfig\"][\n",
    "    \"HyperParameterTuningJobObjective\"\n",
    "][\"MetricName\"]"
   ]
  },
  {
   "cell_type": "code",
   "execution_count": 52,
   "id": "44f1283e",
   "metadata": {},
   "outputs": [
    {
     "name": "stdout",
     "output_type": "stream",
     "text": [
      "Best model found so far:\n",
      "{'CreationTime': datetime.datetime(2022, 4, 6, 7, 53, 59, tzinfo=tzlocal()),\n",
      " 'FinalHyperParameterTuningJobObjectiveMetric': {'MetricName': 'validation:accuracy',\n",
      "                                                 'Value': 0.8009999990463257},\n",
      " 'ObjectiveStatus': 'Succeeded',\n",
      " 'TrainingEndTime': datetime.datetime(2022, 4, 6, 8, 0, 42, tzinfo=tzlocal()),\n",
      " 'TrainingJobArn': 'arn:aws:sagemaker:ap-northeast-2:806174985048:training-job/blazingtext-220406-0747-004-d17efc1d',\n",
      " 'TrainingJobName': 'blazingtext-220406-0747-004-d17efc1d',\n",
      " 'TrainingJobStatus': 'Completed',\n",
      " 'TrainingStartTime': datetime.datetime(2022, 4, 6, 7, 55, 34, tzinfo=tzlocal()),\n",
      " 'TunedHyperParameters': {'learning_rate': '0.12133708623491694',\n",
      "                          'vector_dim': '252'}}\n"
     ]
    }
   ],
   "source": [
    "from pprint import pprint\n",
    "\n",
    "if tuning_job_result.get(\"BestTrainingJob\", None):\n",
    "    print(\"Best model found so far:\")\n",
    "    pprint(tuning_job_result[\"BestTrainingJob\"])\n",
    "else:\n",
    "    print(\"No training jobs have reported results yet.\")"
   ]
  },
  {
   "cell_type": "markdown",
   "id": "dde06c94",
   "metadata": {},
   "source": [
    "### 모든 결과를 `DataFrame` 으로 가져오기\n",
    "\n",
    "모든 학습 작업의 하이퍼 파라미터와 객관적인 메트릭을 나열하고 최상의 목표 메트릭으로 학습 작업을 선택할 수 있습니다."
   ]
  },
  {
   "cell_type": "code",
   "execution_count": 53,
   "id": "204d41af",
   "metadata": {},
   "outputs": [
    {
     "name": "stdout",
     "output_type": "stream",
     "text": [
      "Number of training jobs with valid objective: 6\n",
      "{'lowest': 0.7972000241279602, 'highest': 0.8009999990463257}\n"
     ]
    },
    {
     "name": "stderr",
     "output_type": "stream",
     "text": [
      "/home/ec2-user/anaconda3/envs/python3/lib/python3.6/site-packages/ipykernel/__main__.py:13: FutureWarning: Passing a negative integer is deprecated in version 1.0 and will not be supported in future version. Instead, use None to not limit the column width.\n"
     ]
    },
    {
     "data": {
      "text/html": [
       "<div>\n",
       "<style scoped>\n",
       "    .dataframe tbody tr th:only-of-type {\n",
       "        vertical-align: middle;\n",
       "    }\n",
       "\n",
       "    .dataframe tbody tr th {\n",
       "        vertical-align: top;\n",
       "    }\n",
       "\n",
       "    .dataframe thead th {\n",
       "        text-align: right;\n",
       "    }\n",
       "</style>\n",
       "<table border=\"1\" class=\"dataframe\">\n",
       "  <thead>\n",
       "    <tr style=\"text-align: right;\">\n",
       "      <th></th>\n",
       "      <th>learning_rate</th>\n",
       "      <th>vector_dim</th>\n",
       "      <th>TrainingJobName</th>\n",
       "      <th>TrainingJobStatus</th>\n",
       "      <th>FinalObjectiveValue</th>\n",
       "      <th>TrainingStartTime</th>\n",
       "      <th>TrainingEndTime</th>\n",
       "      <th>TrainingElapsedTimeSeconds</th>\n",
       "    </tr>\n",
       "  </thead>\n",
       "  <tbody>\n",
       "    <tr>\n",
       "      <th>2</th>\n",
       "      <td>0.121337</td>\n",
       "      <td>252.0</td>\n",
       "      <td>blazingtext-220406-0747-004-d17efc1d</td>\n",
       "      <td>Completed</td>\n",
       "      <td>0.8010</td>\n",
       "      <td>2022-04-06 07:55:34+00:00</td>\n",
       "      <td>2022-04-06 08:00:42+00:00</td>\n",
       "      <td>308.0</td>\n",
       "    </tr>\n",
       "    <tr>\n",
       "      <th>0</th>\n",
       "      <td>0.138186</td>\n",
       "      <td>261.0</td>\n",
       "      <td>blazingtext-220406-0747-006-513e814e</td>\n",
       "      <td>Completed</td>\n",
       "      <td>0.7996</td>\n",
       "      <td>2022-04-06 08:03:28+00:00</td>\n",
       "      <td>2022-04-06 08:08:36+00:00</td>\n",
       "      <td>308.0</td>\n",
       "    </tr>\n",
       "    <tr>\n",
       "      <th>4</th>\n",
       "      <td>0.074222</td>\n",
       "      <td>248.0</td>\n",
       "      <td>blazingtext-220406-0747-002-d5014813</td>\n",
       "      <td>Completed</td>\n",
       "      <td>0.7994</td>\n",
       "      <td>2022-04-06 07:48:47+00:00</td>\n",
       "      <td>2022-04-06 07:53:49+00:00</td>\n",
       "      <td>302.0</td>\n",
       "    </tr>\n",
       "    <tr>\n",
       "      <th>3</th>\n",
       "      <td>0.064744</td>\n",
       "      <td>300.0</td>\n",
       "      <td>blazingtext-220406-0747-003-6543b83d</td>\n",
       "      <td>Completed</td>\n",
       "      <td>0.7989</td>\n",
       "      <td>2022-04-06 07:55:24+00:00</td>\n",
       "      <td>2022-04-06 08:01:11+00:00</td>\n",
       "      <td>347.0</td>\n",
       "    </tr>\n",
       "    <tr>\n",
       "      <th>1</th>\n",
       "      <td>0.149343</td>\n",
       "      <td>223.0</td>\n",
       "      <td>blazingtext-220406-0747-005-0cf743ec</td>\n",
       "      <td>Completed</td>\n",
       "      <td>0.7979</td>\n",
       "      <td>2022-04-06 08:03:07+00:00</td>\n",
       "      <td>2022-04-06 08:07:30+00:00</td>\n",
       "      <td>263.0</td>\n",
       "    </tr>\n",
       "    <tr>\n",
       "      <th>5</th>\n",
       "      <td>0.088248</td>\n",
       "      <td>153.0</td>\n",
       "      <td>blazingtext-220406-0747-001-fdbe6c40</td>\n",
       "      <td>Completed</td>\n",
       "      <td>0.7972</td>\n",
       "      <td>2022-04-06 07:48:47+00:00</td>\n",
       "      <td>2022-04-06 07:52:24+00:00</td>\n",
       "      <td>217.0</td>\n",
       "    </tr>\n",
       "  </tbody>\n",
       "</table>\n",
       "</div>"
      ],
      "text/plain": [
       "   learning_rate  vector_dim                       TrainingJobName  \\\n",
       "2  0.121337       252.0       blazingtext-220406-0747-004-d17efc1d   \n",
       "0  0.138186       261.0       blazingtext-220406-0747-006-513e814e   \n",
       "4  0.074222       248.0       blazingtext-220406-0747-002-d5014813   \n",
       "3  0.064744       300.0       blazingtext-220406-0747-003-6543b83d   \n",
       "1  0.149343       223.0       blazingtext-220406-0747-005-0cf743ec   \n",
       "5  0.088248       153.0       blazingtext-220406-0747-001-fdbe6c40   \n",
       "\n",
       "  TrainingJobStatus  FinalObjectiveValue         TrainingStartTime  \\\n",
       "2  Completed         0.8010              2022-04-06 07:55:34+00:00   \n",
       "0  Completed         0.7996              2022-04-06 08:03:28+00:00   \n",
       "4  Completed         0.7994              2022-04-06 07:48:47+00:00   \n",
       "3  Completed         0.7989              2022-04-06 07:55:24+00:00   \n",
       "1  Completed         0.7979              2022-04-06 08:03:07+00:00   \n",
       "5  Completed         0.7972              2022-04-06 07:48:47+00:00   \n",
       "\n",
       "            TrainingEndTime  TrainingElapsedTimeSeconds  \n",
       "2 2022-04-06 08:00:42+00:00  308.0                       \n",
       "0 2022-04-06 08:08:36+00:00  308.0                       \n",
       "4 2022-04-06 07:53:49+00:00  302.0                       \n",
       "3 2022-04-06 08:01:11+00:00  347.0                       \n",
       "1 2022-04-06 08:07:30+00:00  263.0                       \n",
       "5 2022-04-06 07:52:24+00:00  217.0                       "
      ]
     },
     "execution_count": 53,
     "metadata": {},
     "output_type": "execute_result"
    }
   ],
   "source": [
    "import pandas as pd\n",
    "\n",
    "tuner_analytics = sagemaker.HyperparameterTuningJobAnalytics(tuning_job_name)\n",
    "\n",
    "full_df = tuner_analytics.dataframe()\n",
    "\n",
    "if len(full_df) > 0:\n",
    "    df = full_df[full_df[\"FinalObjectiveValue\"] > -float(\"inf\")]\n",
    "    if len(df) > 0:\n",
    "        df = df.sort_values(\"FinalObjectiveValue\", ascending=is_minimize)\n",
    "        print(\"Number of training jobs with valid objective: %d\" % len(df))\n",
    "        print({\"lowest\": min(df[\"FinalObjectiveValue\"]), \"highest\": max(df[\"FinalObjectiveValue\"])})\n",
    "        pd.set_option(\"display.max_colwidth\", -1)  # Don't truncate TrainingJobName\n",
    "    else:\n",
    "        print(\"No training jobs have reported valid results yet.\")\n",
    "\n",
    "df"
   ]
  },
  {
   "cell_type": "markdown",
   "id": "61d068d1",
   "metadata": {},
   "source": [
    "### 가장 잘 학습된 모델 배포\n",
    "학습이 완료되면 학습된 모델을 Amazon SageMaker 실시간 호스팅 엔드포인트로 배포할 수 있고 모델에서 예측 (또는 추론) 을 할 수 있습니다. 학습할 때와 동일한 유형의 인스턴스에서 호스팅할 필요는 없습니다. 일반적으로 추론을 위해 트레이닝에 비해 컴퓨팅 파워가 덜 필요하고, 인스턴스 엔드포인트가 오랫동안 가동되어 실행되기 때문에 추론을 위해 더 저렴한 인스턴스를 선택하는 것이 좋습니다.\n",
    "\n",
    "- `ml.c4.4xlarge` - 컴퓨팅 최적화 인스턴스로서 고성능 프로세서의 이점을 활용하는 애플리케이션에 이상적입니다.\n",
    "- `ml.m4.xlarge` - 범용 인스턴스로서 컴퓨팅, 메모리 및 네트워킹 리소스의 균형을 제공하며 다양한 워크로드에 사용할 수 있습니다."
   ]
  },
  {
   "cell_type": "code",
   "execution_count": 54,
   "id": "18f4ef79",
   "metadata": {},
   "outputs": [
    {
     "name": "stdout",
     "output_type": "stream",
     "text": [
      "\n",
      "2022-04-06 08:00:42 Starting - Preparing the instances for training\n",
      "2022-04-06 08:00:42 Downloading - Downloading input data\n",
      "2022-04-06 08:00:42 Training - Training image download completed. Training in progress.\n",
      "2022-04-06 08:00:42 Uploading - Uploading generated training model\n",
      "2022-04-06 08:00:42 Completed - Training job completed\n",
      "-----!"
     ]
    }
   ],
   "source": [
    "from sagemaker.serializers import JSONSerializer\n",
    "\n",
    "text_classifier = tuner.deploy(\n",
    "    initial_instance_count=1, instance_type=\"ml.m4.xlarge\", serializer=JSONSerializer()\n",
    ")"
   ]
  },
  {
   "cell_type": "code",
   "execution_count": 55,
   "id": "2ec10ba3",
   "metadata": {},
   "outputs": [
    {
     "name": "stderr",
     "output_type": "stream",
     "text": [
      "[nltk_data] Downloading package punkt to /home/ec2-user/nltk_data...\n",
      "[nltk_data]   Package punkt is already up-to-date!\n"
     ]
    },
    {
     "data": {
      "text/plain": [
       "True"
      ]
     },
     "execution_count": 55,
     "metadata": {},
     "output_type": "execute_result"
    }
   ],
   "source": [
    "import nltk\n",
    "nltk.download('punkt')"
   ]
  },
  {
   "cell_type": "code",
   "execution_count": 56,
   "id": "2eb46bee",
   "metadata": {},
   "outputs": [],
   "source": [
    "sentences = [\"재미있게 봤습니다. 제 점수는요 100점 만점에 80점 드리겠습니다.\",\n",
    "            \"스토리가 너무 단방향이라 재미가 없고 성우 더빙도 그닥이네요...\"]\n",
    "\n",
    "tokenized_sentences = [' '.join(nltk.word_tokenize(sent)) for sent in sentences]\n",
    "payload = {\"instances\" : tokenized_sentences, \"configuration\": {\"k\": 2}}"
   ]
  },
  {
   "cell_type": "code",
   "execution_count": 59,
   "id": "6b1105ff",
   "metadata": {},
   "outputs": [
    {
     "data": {
      "text/plain": [
       "{'instances': ['재미있게 봤습니다 . 제 점수는요 100점 만점에 80점 드리겠습니다 .',\n",
       "  '스토리가 너무 단방향이라 재미가 없고 성우 더빙도 그닥이네요 ...'],\n",
       " 'configuration': {'k': 2}}"
      ]
     },
     "execution_count": 59,
     "metadata": {},
     "output_type": "execute_result"
    }
   ],
   "source": [
    "payload"
   ]
  },
  {
   "cell_type": "code",
   "execution_count": 61,
   "id": "5e8aab88",
   "metadata": {},
   "outputs": [],
   "source": [
    "response = text_classifier.predict(payload)"
   ]
  },
  {
   "cell_type": "code",
   "execution_count": 62,
   "id": "5999a452",
   "metadata": {},
   "outputs": [
    {
     "name": "stdout",
     "output_type": "stream",
     "text": [
      "[\n",
      "  {\n",
      "    \"label\": [\n",
      "      \"__label__1\",\n",
      "      \"__label__0\"\n",
      "    ],\n",
      "    \"prob\": [\n",
      "      0.998494565486908,\n",
      "      0.001525494852103293\n",
      "    ]\n",
      "  },\n",
      "  {\n",
      "    \"label\": [\n",
      "      \"__label__0\",\n",
      "      \"__label__1\"\n",
      "    ],\n",
      "    \"prob\": [\n",
      "      1.000009298324585,\n",
      "      1.067403172783088e-05\n",
      "    ]\n",
      "  }\n",
      "]\n"
     ]
    }
   ],
   "source": [
    "predictions = json.loads(response)\n",
    "print(json.dumps(predictions, indent=2))"
   ]
  },
  {
   "cell_type": "markdown",
   "id": "179e5b1a",
   "metadata": {},
   "source": [
    "### 정리\n",
    "엔드포인트는 [SageMaker 가격 페이지](https://aws.amazon.com/sagemaker/pricing/) 를 기준으로 배포된 시간에 따라 요금이 청구되므로 더 이상 사용하지 않을 때는 삭제해야 합니다."
   ]
  },
  {
   "cell_type": "code",
   "execution_count": 63,
   "id": "2dba3baf",
   "metadata": {},
   "outputs": [],
   "source": [
    "text_classifier.delete_endpoint()"
   ]
  },
  {
   "cell_type": "code",
   "execution_count": null,
   "id": "bcc44368",
   "metadata": {},
   "outputs": [],
   "source": []
  },
  {
   "cell_type": "code",
   "execution_count": null,
   "id": "57fe35d4",
   "metadata": {},
   "outputs": [],
   "source": []
  }
 ],
 "metadata": {
  "kernelspec": {
   "display_name": "conda_python3",
   "language": "python",
   "name": "conda_python3"
  },
  "language_info": {
   "codemirror_mode": {
    "name": "ipython",
    "version": 3
   },
   "file_extension": ".py",
   "mimetype": "text/x-python",
   "name": "python",
   "nbconvert_exporter": "python",
   "pygments_lexer": "ipython3",
   "version": "3.6.13"
  }
 },
 "nbformat": 4,
 "nbformat_minor": 5
}
